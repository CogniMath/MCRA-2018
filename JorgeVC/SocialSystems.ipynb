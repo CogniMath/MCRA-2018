{
 "cells": [
  {
   "cell_type": "markdown",
   "metadata": {},
   "source": [
    "# Simulación de Contagio en Sistemas Sociales\n",
    "\n",
    "Jorge Velázquez Castro  \n",
    "FCFM-BUAP  \n",
    "https://www.researchgate.net/profile/Jorge_Velazquez-Castro"
   ]
  },
  {
   "cell_type": "markdown",
   "metadata": {},
   "source": [
    "## Propagación de rumores"
   ]
  },
  {
   "cell_type": "markdown",
   "metadata": {
    "collapsed": true
   },
   "source": [
    "Consider a population of fixed size K in which a rumor is being spread by word\n",
    "of mouth. Let y(t) be the number of people who have heard the rumor at time\n",
    "t and assume that everyone who has heard the rumor passes it on to r others in\n",
    "unit time. Thus, from time t to time (t+h). the rumor is passed on hry(t) times,\n",
    "but a fraction y(t)/K of the people who hear it have already heard it, and thus\n",
    "there are only $hry(t)[\n",
    "K−y(t)/K]$\n",
    "people who hear the rumor for the first time. \n",
    "\n",
    "One person in a village of 100 inhabitants starts a rumor. Suppose that\n",
    "everyone who hears the rumor tells one other person per day. How long it will take until half the village has heard the rumor?.\n",
    "\n"
   ]
  },
  {
   "cell_type": "markdown",
   "metadata": {},
   "source": [
    "### El modelo\n",
    "\n",
    "Lo anterior se puede modelar por un sistema de ecuaciones diferenciales\n",
    "\n",
    "$ \\frac{dx}{dt}=-ry\\frac{x}{K} \\\\\n",
    " \\frac{dy}{dt}=ry\\frac{x}{K} $\n",
    " \n",
    " donde,\n",
    " \n",
    " x : personas que no han escuchado el rumor\n",
    " \n",
    " y : personas que han escuchado el rumor.\n",
    " \n",
    " Como parámetros constantes tenemos\n",
    " \n",
    " r : Número promedio de veces que una persona se cuenta el rumor por unidad de tiempo\n",
    " \n",
    " K : Tamaño de la población"
   ]
  },
  {
   "cell_type": "markdown",
   "metadata": {},
   "source": [
    "### Simulación en lenguaje python"
   ]
  },
  {
   "cell_type": "markdown",
   "metadata": {},
   "source": [
    "Primero importamos las librerias necesarias.\n",
    "\n",
    "odeint : función que resuelve sistemas de ecuaciones diferenciales numéricamente\n",
    "\n",
    "numpy : para manejar vectores de forma eficiente\n",
    "\n",
    "matplotlib.pyplot : para graficar\n",
    "\n",
    "matplotlib : para especificar la presentación de la gráfica"
   ]
  },
  {
   "cell_type": "code",
   "execution_count": 1,
   "metadata": {
    "collapsed": true
   },
   "outputs": [],
   "source": [
    "from scipy.integrate import odeint\n",
    "import numpy as np\n",
    "import matplotlib.pyplot as plt\n",
    "#from pylab import *  # for plotting commands\n",
    "import matplotlib\n",
    "matplotlib.rc('xtick', labelsize=18)\n",
    "matplotlib.rc('ytick', labelsize=18)\n",
    "matplotlib.rc('axes', labelsize=18)\n"
   ]
  },
  {
   "cell_type": "markdown",
   "metadata": {},
   "source": [
    "El modelo lo codificamos en una función.\n",
    "\n",
    "Recordemos que el modelo es\n",
    "\n",
    "$ \\frac{dx}{dt}=-ry\\frac{x}{K} \\\\\n",
    " \\frac{dy}{dt}=ry\\frac{x}{K} $"
   ]
  },
  {
   "cell_type": "code",
   "execution_count": 2,
   "metadata": {
    "collapsed": true
   },
   "outputs": [],
   "source": [
    "def model(z,t):\n",
    "    x=z[0]\n",
    "    y=z[1]\n",
    "    dx=-r*y*x/K\n",
    "    dy=r*y*x/K\n",
    "    return np.array([dx,dy])"
   ]
  },
  {
   "cell_type": "markdown",
   "metadata": {},
   "source": [
    "Tenemos que dar valor a los parámetros\n",
    "\n",
    "r = 2.0 significa que un individuo en promedio cuenta el rumor 2 veces en un día\n",
    "\n",
    "K = 100.0 nuestra población consta de 100 individuos"
   ]
  },
  {
   "cell_type": "code",
   "execution_count": 3,
   "metadata": {
    "collapsed": true
   },
   "outputs": [],
   "source": [
    "#parametros\n",
    "r=2.0\n",
    "K=100"
   ]
  },
  {
   "cell_type": "markdown",
   "metadata": {},
   "source": [
    "Tenemos que indicar como fue que empezó todo. Aunque no nos referimos a la historia.\n",
    "\n",
    "Nos refermios a las condiciones iniciales:\n",
    "    \n",
    "$x_{0}=99.0$ : Significa que 99 personas no sabían del rumor\n",
    "        \n",
    "$y_{0}=1$ : Significa que todo empezó por 1 chismoso."
   ]
  },
  {
   "cell_type": "code",
   "execution_count": 4,
   "metadata": {
    "collapsed": true
   },
   "outputs": [],
   "source": [
    "#Condiciones iniciales\n",
    "x0=K-1.\n",
    "y0=1."
   ]
  },
  {
   "cell_type": "markdown",
   "metadata": {},
   "source": [
    "Es necesario especificar cuanto tiempo queremos simular. No nos referemios a cuanto queremos que tarde la simulación :)"
   ]
  },
  {
   "cell_type": "code",
   "execution_count": 5,
   "metadata": {
    "collapsed": true
   },
   "outputs": [],
   "source": [
    "time = np.linspace(0.0,10.0,100)"
   ]
  },
  {
   "cell_type": "markdown",
   "metadata": {},
   "source": [
    "Resolvemos el sistema con ayuda de la función odeint\n",
    "\n",
    "model : la función que nos define el modelo\n",
    "\n",
    "[x0,y0] : las condiciones iniciales\n",
    "\n",
    "time : intervalo de tiempo de la simulación\n",
    "\n",
    "y_evol : matriz donde guardaremos el resultado"
   ]
  },
  {
   "cell_type": "code",
   "execution_count": 6,
   "metadata": {
    "collapsed": true
   },
   "outputs": [],
   "source": [
    "y_evol = odeint(model,[x0,y0],time)"
   ]
  },
  {
   "cell_type": "markdown",
   "metadata": {},
   "source": [
    "Ya tenemos el resultado en 'y_evol'. ¿Y ahora que?\n",
    "\n",
    "Lo visualizamos por medio de una gráfica.\n",
    "\n",
    "¿Recuredan que al inicio escribimos 'import matplotlib.pyplot as plt'?\n",
    "\n",
    "Este comando nos permite utilizar varias funciones para graficar\n",
    "\n",
    "La función principal tiene la siguiente estructura, \n",
    "\n",
    "plt.plot(t,y) : grafica la variable y contra t. Es decir y=y(t).\n",
    "\n",
    "En concreto, t es un vector t=$ \\begin{bmatrix} t_{0} \\\\ t_{1} \\\\ t_{2} \\\\ t_{3} \\\\ \\vdots \\end{bmatrix} $\n",
    "\n",
    "y es otro vector y=$ \\begin{bmatrix} y_{0} \\\\ y_{1} \\\\ y_{2} \\\\ y_{3} \\\\ \\vdots \\end{bmatrix} $.\n",
    "\n",
    "Entonces, plt.plot(t,y) lo que hace es dibujar puntos en las coordenadas $(t_0,y_{0}), (t_{1},y_{1}), (t_{2},y_{3}), ...$ y luego unir los puntos con lineas."
   ]
  },
  {
   "cell_type": "code",
   "execution_count": 8,
   "metadata": {
    "collapsed": false
   },
   "outputs": [
    {
     "data": {
      "image/png": "[encoded data removed]",
      "text/plain": [
       "<matplotlib.figure.Figure at 0x98abb70>"
      ]
     },
     "metadata": {},
     "output_type": "display_data"
    }
   ],
   "source": [
    "plt.xlabel('Time (days)')  #poner etiqueta del eje x\n",
    "#plt.ylabel('')\n",
    "plt.plot(time,y_evol[:,0],'--',label=\"Desinformados\") #graficar variable time vs y_evol[:,0]\n",
    "plt.plot(time,y_evol[:,1],'b',label=\"Informados\")\n",
    "plt.legend() #mostrar las leyendas\n",
    "plt.show() #finalmente tenemos que mostrar la grafica"
   ]
  },
  {
   "cell_type": "markdown",
   "metadata": {},
   "source": [
    "A lo mejor se están preguntando lo que significa 'y_evol[:,0]'.\n",
    "\n",
    "La solución de un sistema de ecuaciones se puede ver como una matriz, por ejemplo \n",
    "\n",
    "$ \\begin{bmatrix} x_{0} & y_{0} \\\\ x_{1} & y_{1} \\\\ x_{2} & y_{2} \\\\ x_{3} & y_{3} \\\\ \\vdots & \\vdots \\end{bmatrix}$\n",
    "\n",
    "De modo que y_evol[:,0] significa todos los renglones de la primera columna. En la mayoría de los lenguajes de programación se empieza a numerar a partir del 0. Extraña convención, pero tiene su motivación por la forma en que trabajan las computadoras.\n",
    "\n",
    "y_evol[:,0]= $ \\begin{bmatrix} x_{0} \\\\ x_{1} \\\\ x_{2} \\\\ x_{3} \\\\ \\vdots \\end{bmatrix} $\n",
    "\n",
    "Del mismo modo y_evol[:,1] son todos los renglones de la segunda columa\n",
    "\n",
    "De esta forma el comando plt.plot(time,y_evol[:,0],'--',label=\"Desinformados\") grafica el número de personas \"Desinformadas\" como función del tiempo.\n"
   ]
  },
  {
   "cell_type": "markdown",
   "metadata": {},
   "source": [
    "## Modelo de propagación de obesidad"
   ]
  },
  {
   "cell_type": "markdown",
   "metadata": {},
   "source": [
    "S : Suceptibles\n",
    "    \n",
    "E : Expuestos\n",
    "    \n",
    "$I_{1}$ : Obesos\n",
    "\n",
    "R : Recuperados\n",
    "    \n",
    "N : Población total"
   ]
  },
  {
   "cell_type": "markdown",
   "metadata": {},
   "source": [
    "$ S'=(1-p)\\mu N  -k_{1}I_{1}\\frac{S}{N} -\\alpha S - D S\\\\\n",
    " E'=p\\mu N  + k_{1} I_{1}\\frac{S}{N} - a E - D E\\\\\n",
    " I_{1}' =a E - \\rho_{1}I_{1} + \\alpha S + \\rho_{R} R - D I_{1} \\\\\n",
    " R' =  \\rho_{1} I_{1} -\\rho_{R} R -D R $"
   ]
  },
  {
   "cell_type": "markdown",
   "metadata": {},
   "source": [
    "Expliquemos los parámetros:\n",
    "    \n",
    "$\\mu$ : Tasa de natalidad  \n",
    "$p$ : probablidad de nacer en un ambiente de personas obesas  \n",
    "$k_{1}$ : Grado de influencia que las personas obesas ejercen sobre los habitos de los demás  \n",
    "$\\alpha$ : tasa de transición intrínseca de expuesto a obeso  \n",
    "$D$ : tasa de mortalidad  \n",
    "$a$ : tasa de transición de persona expuesta a obesa  \n",
    "$\\rho_{1}$ : tasa de recuperación  \n",
    "$\\rho_{R}$ : tasa de reincidencia"
   ]
  },
  {
   "cell_type": "markdown",
   "metadata": {},
   "source": [
    "### Simulación computacional\n",
    "\n",
    "Recordemos el modelo  \n",
    "$ S'=(1-p)\\mu N  -k_{1}I_{1}\\frac{S}{N} -\\alpha S - D S\\\\\n",
    " E'=p\\mu N  + k_{1} I_{1}\\frac{S}{N} - a E - D E\\\\\n",
    " I_{1}' =a E - \\rho_{1}I_{1} + \\alpha S + \\rho_{R} R - D I_{1} \\\\\n",
    " R' =  \\rho_{1} I_{1} -\\rho_{R} R -D R $"
   ]
  },
  {
   "cell_type": "code",
   "execution_count": 9,
   "metadata": {
    "collapsed": true
   },
   "outputs": [],
   "source": [
    "def system(y,t):\n",
    "    S=y[0]\n",
    "    E=y[1]\n",
    "    I1=y[2]\n",
    "    R=y[3]\n",
    "    N=S+E+I1+R\n",
    "    dS=(1.-p)*mu*N  -k1*I1*S/N -alpha*S - D*S\n",
    "    dE=p*mu*N  + k1*I1*S/N  - a*E   - D*E\n",
    "    dI1=a*E - rho1*I1 + rho_R*R + alpha*S - D*I1\n",
    "    dR=rho1*I1 - rho_R*R - D*R\n",
    "    \n",
    "    return np.array([dS,dE,dI1,dR])"
   ]
  },
  {
   "cell_type": "markdown",
   "metadata": {
    "collapsed": true
   },
   "source": [
    "Damos valor a los parámetros.\n",
    "\n",
    "El valor de los parámetros se obtuvo de este artículo:  \n",
    "Thomas, D. M., Weedermann, M., Fuemmeler, B. F., Martin, C. K., Dhurandhar, N. V., Bredlau, C., … Bouchard, C. (2014). Dynamic Model Predicting Overweight, Obesity, and Extreme Obesity Prevalence Trends. Obesity (Silver Spring, Md.), 22(2), 590-597. https://doi.org/10.1002/oby.20520\n",
    "\n",
    "https://www.ncbi.nlm.nih.gov/pmc/articles/PMC3842399/\n"
   ]
  },
  {
   "cell_type": "code",
   "execution_count": 10,
   "metadata": {
    "collapsed": true
   },
   "outputs": [],
   "source": [
    "# parameters units in years\n",
    "p=0.3 #30% of females pre-pregnancy BMI are classified overweight\n",
    "mu=D=0.01229 # Birth and Dead rate\n",
    "k1=0.4\n",
    "alpha=0.05\n",
    "a=0.05\n",
    "rho1=0.003\n",
    "rho_R=0.05"
   ]
  },
  {
   "cell_type": "markdown",
   "metadata": {},
   "source": [
    "Simulamos una población de 320 individuos donde 20 comienzan obesos."
   ]
  },
  {
   "cell_type": "code",
   "execution_count": 11,
   "metadata": {
    "collapsed": true
   },
   "outputs": [],
   "source": [
    "# condiciones inciales\n",
    "Y=np.zeros(4)\n",
    "Y[0]=S=300\n",
    "Y[1]=E=0\n",
    "Y[2]=I1=20\n",
    "Y[3]=R=0"
   ]
  },
  {
   "cell_type": "markdown",
   "metadata": {},
   "source": [
    "Resolvemos el sistema para 50 años"
   ]
  },
  {
   "cell_type": "code",
   "execution_count": 12,
   "metadata": {
    "collapsed": true
   },
   "outputs": [],
   "source": [
    "time = np.linspace(0.0,50.0,100)\n",
    "y_evol = odeint(system,Y,time)"
   ]
  },
  {
   "cell_type": "markdown",
   "metadata": {},
   "source": [
    "Finalmente graficamos el resultado"
   ]
  },
  {
   "cell_type": "code",
   "execution_count": 13,
   "metadata": {
    "collapsed": false
   },
   "outputs": [
    {
     "data": {
      "image/png": "[encoded data removed]",
      "text/plain": [
       "<matplotlib.figure.Figure at 0xa5f0780>"
      ]
     },
     "metadata": {},
     "output_type": "display_data"
    }
   ],
   "source": [
    "plt.xlabel('Time (years)')\n",
    "#plt.ylabel('')\n",
    "plt.plot(time,y_evol[:,0],'--',label=\"Suceptibles\")\n",
    "plt.plot(time,y_evol[:,1],'b',label=\"Expuestos\")\n",
    "plt.plot(time,y_evol[:,2],label=\"Obesos\")\n",
    "plt.plot(time,y_evol[:,3],label=\"Recuperados\")\n",
    "plt.legend()\n",
    "plt.show()"
   ]
  },
  {
   "cell_type": "markdown",
   "metadata": {},
   "source": [
    "## El modelo del votante\n",
    "\n",
    "Este ejemplo utiliza un enfoque distinto. Aquí no emplearemos ecuaciones diferenciales\n",
    "\n",
    "Aquí modelaremos individuos en lugar de poblaciones.\n",
    "\n",
    "Los individuos están conectados por una red de amistad o bien de influencia.\n",
    "\n",
    "Es una abstacción simplificada de la propagación de ideas contrarias. \n",
    "\n",
    "### El modelo\n",
    "\n",
    "1) Un individuo elegido aleatoriamente se dispondrá a oir la opinión de sus amigos  \n",
    "2) Uno de sus amigos elgido aleatoriamente le dice su opinión sobre un tema  \n",
    "3) El individuo objetivo toma la misma opinión que su amigo  \n",
    "4) Se repiten los pasos"
   ]
  },
  {
   "cell_type": "markdown",
   "metadata": {},
   "source": [
    "### La implementación en python\n",
    "\n",
    "Primero importamos las librerias necesarias\n",
    "\n",
    "La librería importante es 'networkx' que aprenderán a usar en el siguiente taller."
   ]
  },
  {
   "cell_type": "code",
   "execution_count": 14,
   "metadata": {
    "collapsed": true
   },
   "outputs": [],
   "source": [
    "import warnings\n",
    "warnings.filterwarnings('ignore') #para que no salgan mensajes que no nos interesan\n",
    "import networkx as nx #para representar la red\n",
    "import random as rd #para generar números aleatorios\n",
    "from IPython import display #para poder presentar la animación final\n",
    "import matplotlib #para elegir los colores de los nodos de la red"
   ]
  },
  {
   "cell_type": "markdown",
   "metadata": {},
   "source": [
    "Primero definiremos la función que nos inicializa el sistema"
   ]
  },
  {
   "cell_type": "code",
   "execution_count": 15,
   "metadata": {
    "collapsed": true
   },
   "outputs": [],
   "source": [
    "def initialize():\n",
    "    global g        #variable que nos representa la red \n",
    "    g = nx.karate_club_graph() #una red predefinida en networkx\n",
    "    g.pos = nx.spring_layout(g) #guardamos la posición de los nodos para dibujar siempre en la misma posición\n",
    "    for i in g.nodes():  \n",
    "        g.node[i]['state'] = 1 if rd.random() < .5 else 0 # para cada nodo elegimos que su estado sea 1 o 0 con 50% de probabilidad"
   ]
  },
  {
   "cell_type": "markdown",
   "metadata": {},
   "source": [
    "Definimos la función que nos muestra la red.\n",
    "\n",
    "Los nodos (individuos) de opinión \"1\" tendrán color negro  \n",
    "Los nodos que tienen opinión \"0\" tendrán color gris\n",
    "\n",
    "La función 'nx.draw' nos dibuja la red 'g'  \n",
    "cmap : indica que paleta de color usar  \n",
    "node_color : indica el color para cada nodo  \n",
    "pos : indica la posición de cada nodo  "
   ]
  },
  {
   "cell_type": "code",
   "execution_count": 16,
   "metadata": {
    "collapsed": true
   },
   "outputs": [],
   "source": [
    "def observe():\n",
    "    global g\n",
    "    observe.counter += 1  \n",
    "    display.clear_output(wait=True)\n",
    "    nx.draw(g, cmap = matplotlib.cm.binary, vmin = -0.5, vmax = 1,\n",
    "            node_color = [g.node[i]['state'] for i in g.nodes()],\n",
    "            pos = g.pos)\n",
    "    plt.title('tiempo={}'.format(observe.counter))\n",
    "    plt.show()\n",
    "observe.counter=0"
   ]
  },
  {
   "cell_type": "markdown",
   "metadata": {},
   "source": [
    "La función update será la encargada de actualizar el sistema cada vez que hay un evento."
   ]
  },
  {
   "cell_type": "code",
   "execution_count": 17,
   "metadata": {
    "collapsed": true
   },
   "outputs": [],
   "source": [
    "def update():\n",
    "    global g\n",
    "    listener = rd.choice(list(g.nodes())) #Se elige un individuo de la red que escuchará\n",
    "    speaker = rd.choice(list(g.neighbors(listener))) # se elige un vecino del individuo que escucha\n",
    "    g.node[listener]['state'] = g.node[speaker]['state'] # el estado del individuo que escucha será igual a la de su amigo."
   ]
  },
  {
   "cell_type": "markdown",
   "metadata": {},
   "source": [
    "El definir las funciones no ejecuta el código.\n",
    "\n",
    "Tenemos que llamar a las funciones para ejecutar su códgo\n",
    "\n",
    "Primero inicializamos el sistema"
   ]
  },
  {
   "cell_type": "code",
   "execution_count": 18,
   "metadata": {
    "collapsed": true
   },
   "outputs": [],
   "source": [
    "initialize()"
   ]
  },
  {
   "cell_type": "markdown",
   "metadata": {},
   "source": [
    "Luego actualizamos y observamos la red.\n",
    "\n",
    "Esperamos 0.2 segundos y repetimos para siempre ..."
   ]
  },
  {
   "cell_type": "code",
   "execution_count": 20,
   "metadata": {
    "collapsed": false
   },
   "outputs": [
    {
     "data": {
      "image/png": "[encoded data removed]",
      "text/plain": [
       "<matplotlib.figure.Figure at 0xca027b8>"
      ]
     },
     "metadata": {},
     "output_type": "display_data"
    }
   ],
   "source": [
    "import time\n",
    "while(True):\n",
    "    try:\n",
    "        update()\n",
    "        observe()\n",
    "        time.sleep(0.2)\n",
    "    except KeyboardInterrupt:\n",
    "        break"
   ]
  },
  {
   "cell_type": "markdown",
   "metadata": {
    "collapsed": true
   },
   "source": [
    "# Gracias!. Y disfruten."
   ]
  },
  {
   "cell_type": "code",
   "execution_count": null,
   "metadata": {
    "collapsed": true
   },
   "outputs": [],
   "source": []
  }
 ],
 "metadata": {
  "kernelspec": {
   "display_name": "Python 2",
   "language": "python",
   "name": "python2"
  },
  "language_info": {
   "codemirror_mode": {
    "name": "ipython",
    "version": 2
   },
   "file_extension": ".py",
   "mimetype": "text/x-python",
   "name": "python",
   "nbconvert_exporter": "python",
   "pygments_lexer": "ipython2",
   "version": "2.7.13"
  }
 },
 "nbformat": 4,
 "nbformat_minor": 2
}
